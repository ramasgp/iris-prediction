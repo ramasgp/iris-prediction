{
  "cells": [
    {
      "cell_type": "code",
      "execution_count": 10,
      "metadata": {
        "colab": {
          "base_uri": "https://localhost:8080/"
        },
        "id": "4A0BAaIVsovf",
        "outputId": "9e29f4d7-e961-413f-a0cd-7b2f2fb614b4"
      },
      "outputs": [
        {
          "name": "stdout",
          "output_type": "stream",
          "text": [
            "IPython: 8.24.0\n",
            "numpy: 1.23.4\n",
            "pandas: 2.0.2\n",
            "scikit-learn: 1.5.0\n"
          ]
        }
      ],
      "source": [
        "from __future__ import print_function\n",
        "\n",
        "import IPython\n",
        "print('IPython:', IPython.__version__)\n",
        "\n",
        "import numpy\n",
        "print('numpy:', numpy.__version__)\n",
        "\n",
        "import pandas\n",
        "print('pandas:', pandas.__version__)\n",
        "\n",
        "import sklearn\n",
        "print('scikit-learn:', sklearn.__version__)"
      ]
    },
    {
      "cell_type": "code",
      "execution_count": 11,
      "metadata": {
        "id": "lfHJqmsXs6s_"
      },
      "outputs": [],
      "source": [
        "from sklearn.datasets import load_iris\n",
        "\n",
        "iris = load_iris()"
      ]
    },
    {
      "cell_type": "code",
      "execution_count": 12,
      "metadata": {
        "colab": {
          "base_uri": "https://localhost:8080/"
        },
        "id": "dd1oogdLtYGl",
        "outputId": "3b4e7986-70db-4869-aca1-4686db59403e"
      },
      "outputs": [
        {
          "name": "stdout",
          "output_type": "stream",
          "text": [
            "[[5.1 3.5 1.4 0.2]\n",
            " [4.9 3.  1.4 0.2]\n",
            " [4.7 3.2 1.3 0.2]\n",
            " [4.6 3.1 1.5 0.2]\n",
            " [5.  3.6 1.4 0.2]]\n",
            "[0 0 0 0 0]\n"
          ]
        }
      ],
      "source": [
        "# data numpy\n",
        "X, y = iris.data, iris.target\n",
        "\n",
        "print(X[:5])\n",
        "print(y[:5])"
      ]
    },
    {
      "cell_type": "code",
      "execution_count": 13,
      "metadata": {
        "colab": {
          "base_uri": "https://localhost:8080/",
          "height": 206
        },
        "id": "TINCOGhLt_cB",
        "outputId": "4ae9fb31-d89a-4d8e-b9ef-f9596405a6ef"
      },
      "outputs": [
        {
          "data": {
            "text/html": [
              "<div>\n",
              "<style scoped>\n",
              "    .dataframe tbody tr th:only-of-type {\n",
              "        vertical-align: middle;\n",
              "    }\n",
              "\n",
              "    .dataframe tbody tr th {\n",
              "        vertical-align: top;\n",
              "    }\n",
              "\n",
              "    .dataframe thead th {\n",
              "        text-align: right;\n",
              "    }\n",
              "</style>\n",
              "<table border=\"1\" class=\"dataframe\">\n",
              "  <thead>\n",
              "    <tr style=\"text-align: right;\">\n",
              "      <th></th>\n",
              "      <th>sepal length (cm)</th>\n",
              "      <th>sepal width (cm)</th>\n",
              "      <th>petal length (cm)</th>\n",
              "      <th>petal width (cm)</th>\n",
              "      <th>target</th>\n",
              "    </tr>\n",
              "  </thead>\n",
              "  <tbody>\n",
              "    <tr>\n",
              "      <th>0</th>\n",
              "      <td>5.1</td>\n",
              "      <td>3.5</td>\n",
              "      <td>1.4</td>\n",
              "      <td>0.2</td>\n",
              "      <td>0</td>\n",
              "    </tr>\n",
              "    <tr>\n",
              "      <th>1</th>\n",
              "      <td>4.9</td>\n",
              "      <td>3.0</td>\n",
              "      <td>1.4</td>\n",
              "      <td>0.2</td>\n",
              "      <td>0</td>\n",
              "    </tr>\n",
              "    <tr>\n",
              "      <th>2</th>\n",
              "      <td>4.7</td>\n",
              "      <td>3.2</td>\n",
              "      <td>1.3</td>\n",
              "      <td>0.2</td>\n",
              "      <td>0</td>\n",
              "    </tr>\n",
              "    <tr>\n",
              "      <th>3</th>\n",
              "      <td>4.6</td>\n",
              "      <td>3.1</td>\n",
              "      <td>1.5</td>\n",
              "      <td>0.2</td>\n",
              "      <td>0</td>\n",
              "    </tr>\n",
              "    <tr>\n",
              "      <th>4</th>\n",
              "      <td>5.0</td>\n",
              "      <td>3.6</td>\n",
              "      <td>1.4</td>\n",
              "      <td>0.2</td>\n",
              "      <td>0</td>\n",
              "    </tr>\n",
              "  </tbody>\n",
              "</table>\n",
              "</div>"
            ],
            "text/plain": [
              "   sepal length (cm)  sepal width (cm)  petal length (cm)  petal width (cm)  \\\n",
              "0                5.1               3.5                1.4               0.2   \n",
              "1                4.9               3.0                1.4               0.2   \n",
              "2                4.7               3.2                1.3               0.2   \n",
              "3                4.6               3.1                1.5               0.2   \n",
              "4                5.0               3.6                1.4               0.2   \n",
              "\n",
              "   target  \n",
              "0       0  \n",
              "1       0  \n",
              "2       0  \n",
              "3       0  \n",
              "4       0  "
            ]
          },
          "execution_count": 13,
          "metadata": {},
          "output_type": "execute_result"
        }
      ],
      "source": [
        "# data pandas\n",
        "import pandas as pd\n",
        "\n",
        "df = pd.DataFrame(iris.data, columns=iris.feature_names)\n",
        "df['target'] = iris.target\n",
        "\n",
        "df.head()"
      ]
    },
    {
      "cell_type": "code",
      "execution_count": 14,
      "metadata": {},
      "outputs": [
        {
          "name": "stdout",
          "output_type": "stream",
          "text": [
            "['setosa' 'versicolor' 'virginica']\n"
          ]
        }
      ],
      "source": [
        "print(iris.target_names)"
      ]
    },
    {
      "cell_type": "code",
      "execution_count": 15,
      "metadata": {},
      "outputs": [
        {
          "name": "stdout",
          "output_type": "stream",
          "text": [
            "     sepal length (cm)  sepal width (cm)  petal length (cm)  petal width (cm)  \\\n",
            "100                6.3               3.3                6.0               2.5   \n",
            "101                5.8               2.7                5.1               1.9   \n",
            "102                7.1               3.0                5.9               2.1   \n",
            "103                6.3               2.9                5.6               1.8   \n",
            "104                6.5               3.0                5.8               2.2   \n",
            "\n",
            "     target  \n",
            "100       2  \n",
            "101       2  \n",
            "102       2  \n",
            "103       2  \n",
            "104       2  \n"
          ]
        }
      ],
      "source": [
        "# Memfilter baris dengan target 2\n",
        "target_2_df = df[df['target'] == 2]\n",
        "\n",
        "# Menampilkan 5 baris pertama dari hasil filter\n",
        "print(target_2_df.head())"
      ]
    },
    {
      "cell_type": "code",
      "execution_count": 16,
      "metadata": {
        "id": "CxuOxfK4u23Y"
      },
      "outputs": [],
      "source": [
        "# buat pipeline untuk data numpy\n",
        "from sklearn.pipeline import make_pipeline\n",
        "from sklearn.preprocessing import StandardScaler\n",
        "from sklearn.svm import LinearSVC\n",
        "\n",
        "model_numpy = make_pipeline(StandardScaler(), LinearSVC())"
      ]
    },
    {
      "cell_type": "code",
      "execution_count": 17,
      "metadata": {
        "id": "Fs_c30Fxu6aY"
      },
      "outputs": [],
      "source": [
        "# lakukan hal yang sama untuk data pandas\n",
        "model_pandas = make_pipeline(StandardScaler(), LinearSVC())"
      ]
    },
    {
      "cell_type": "code",
      "execution_count": 18,
      "metadata": {
        "colab": {
          "base_uri": "https://localhost:8080/"
        },
        "id": "yqY7gdugvOSJ",
        "outputId": "3ee25b67-9760-449f-e73f-d5a1002de0d2"
      },
      "outputs": [
        {
          "name": "stdout",
          "output_type": "stream",
          "text": [
            "              precision    recall  f1-score   support\n",
            "\n",
            "           0       1.00      1.00      1.00        12\n",
            "           1       0.88      0.78      0.82         9\n",
            "           2       0.80      0.89      0.84         9\n",
            "\n",
            "    accuracy                           0.90        30\n",
            "   macro avg       0.89      0.89      0.89        30\n",
            "weighted avg       0.90      0.90      0.90        30\n",
            "\n"
          ]
        }
      ],
      "source": [
        "# data numpy\n",
        "# split data training-testing\n",
        "import pickle\n",
        "from sklearn.model_selection import train_test_split\n",
        "from sklearn.metrics import classification_report\n",
        "\n",
        "X_train, X_test, y_train, y_test = train_test_split(X, y, test_size=0.2, random_state=46)\n",
        "\n",
        "# train model\n",
        "model_numpy.fit(X_train, y_train)\n",
        "\n",
        "# evaluasi model\n",
        "y_pred = model_numpy.predict(X_test)\n",
        "print(classification_report(y_test, y_pred))\n",
        "\n",
        "# simpan model\n",
        "with open(\"model_numpy.pkl\", \"wb\") as model_file:\n",
        "    pickle.dump(model_numpy, model_file)"
      ]
    },
    {
      "cell_type": "code",
      "execution_count": 20,
      "metadata": {
        "colab": {
          "base_uri": "https://localhost:8080/"
        },
        "id": "g49AVSdSwOhb",
        "outputId": "60d64067-049b-4395-cb69-6f318a7ac65b"
      },
      "outputs": [
        {
          "data": {
            "text/plain": [
              "array([0])"
            ]
          },
          "execution_count": 20,
          "metadata": {},
          "output_type": "execute_result"
        }
      ],
      "source": [
        "\t# inference model data numpy\n",
        "new_data = [4.9, 3.5, 1.4, 0.2]\n",
        "\n",
        "model_numpy.predict([new_data])"
      ]
    },
    {
      "cell_type": "code",
      "execution_count": 21,
      "metadata": {
        "colab": {
          "base_uri": "https://localhost:8080/"
        },
        "id": "Q8e-PUxwwXjB",
        "outputId": "034068f2-9c7a-415e-8e26-533c7445c822"
      },
      "outputs": [
        {
          "name": "stdout",
          "output_type": "stream",
          "text": [
            "              precision    recall  f1-score   support\n",
            "\n",
            "           0       1.00      1.00      1.00        12\n",
            "           1       0.88      0.78      0.82         9\n",
            "           2       0.80      0.89      0.84         9\n",
            "\n",
            "    accuracy                           0.90        30\n",
            "   macro avg       0.89      0.89      0.89        30\n",
            "weighted avg       0.90      0.90      0.90        30\n",
            "\n"
          ]
        }
      ],
      "source": [
        "# data pandas\n",
        "# split data training-testing\n",
        "\n",
        "df_train, df_test = train_test_split(df, test_size=0.2, random_state=46)\n",
        "\n",
        "# train model\n",
        "model_pandas.fit(df_train.drop('target', axis=1), df_train['target'])\n",
        "\n",
        "# evaluasi model\n",
        "y_pred = model_pandas.predict(df_test.drop('target', axis=1))\n",
        "print(classification_report(df_test['target'], y_pred))\n",
        "\n",
        "# simpan model\n",
        "with open(\"model_pandas.pkl\", \"wb\") as model_file:\n",
        "    pickle.dump(model_pandas, model_file)"
      ]
    },
    {
      "cell_type": "code",
      "execution_count": 22,
      "metadata": {
        "colab": {
          "base_uri": "https://localhost:8080/"
        },
        "id": "XmF5-ASdwdkS",
        "outputId": "afbdf3a1-a6b2-4c9c-f44c-97f049270204"
      },
      "outputs": [
        {
          "data": {
            "text/plain": [
              "array([2])"
            ]
          },
          "execution_count": 22,
          "metadata": {},
          "output_type": "execute_result"
        }
      ],
      "source": [
        "# inference model data pandas\n",
        "new_data = [1, 2, 3, 4]\n",
        "new_data = pd.DataFrame([new_data], columns=iris.feature_names)\n",
        "\n",
        "model_pandas.predict(new_data)"
      ]
    },
    {
      "cell_type": "code",
      "execution_count": 23,
      "metadata": {
        "id": "_5Few1YXxgQy"
      },
      "outputs": [],
      "source": [
        "# load model\n",
        "with open(\"model_pandas.pkl\", \"rb\") as model_file:\n",
        "    model = pickle.load(model_file)"
      ]
    },
    {
      "cell_type": "code",
      "execution_count": 25,
      "metadata": {
        "colab": {
          "base_uri": "https://localhost:8080/"
        },
        "id": "J6uLF6zKxjAp",
        "outputId": "481c8433-f258-4119-a4de-eee065c554ce"
      },
      "outputs": [
        {
          "data": {
            "text/plain": [
              "array([0])"
            ]
          },
          "execution_count": 25,
          "metadata": {},
          "output_type": "execute_result"
        }
      ],
      "source": [
        "# inference model\n",
        "new_data = [4.9, 3.5, 1.4, 0.2]\n",
        "new_data = pd.DataFrame([new_data], columns=iris.feature_names)\n",
        "\n",
        "model.predict(new_data)"
      ]
    }
  ],
  "metadata": {
    "colab": {
      "provenance": []
    },
    "kernelspec": {
      "display_name": "Python 3",
      "name": "python3"
    },
    "language_info": {
      "codemirror_mode": {
        "name": "ipython",
        "version": 3
      },
      "file_extension": ".py",
      "mimetype": "text/x-python",
      "name": "python",
      "nbconvert_exporter": "python",
      "pygments_lexer": "ipython3",
      "version": "3.10.7"
    }
  },
  "nbformat": 4,
  "nbformat_minor": 0
}
